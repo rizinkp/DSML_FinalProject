{
 "cells": [
  {
   "cell_type": "code",
   "execution_count": 5,
   "id": "0df6c9d2-fe9e-4cbc-92cb-cf6958b77c82",
   "metadata": {},
   "outputs": [
    {
     "name": "stdout",
     "output_type": "stream",
     "text": [
      "Predictions: [ 90020.1625     158966.6955754  138986.32987447 325184.52878571\n",
      " 139370.94748012]\n"
     ]
    }
   ],
   "source": [
    "import pandas as pd\n",
    "import joblib\n",
    "\n",
    "model = joblib.load(\"../../models/final_model.pkl\")\n",
    "preprocessor = joblib.load(\"../../models/preprocessor.pkl\")\n",
    "\n",
    "# Input new sample data (it should match the training schema)\n",
    "new_data = pd.read_csv(\"../../data/sample_test_input.csv\")\n",
    "\n",
    "X_new = preprocessor.transform(new_data)\n",
    "\n",
    "predictions = model.predict(X_new)\n",
    "print(\"Predictions:\", predictions)"
   ]
  },
  {
   "cell_type": "code",
   "execution_count": null,
   "id": "c5f88325-2ed9-4122-a386-eacb20e5a50c",
   "metadata": {},
   "outputs": [],
   "source": []
  }
 ],
 "metadata": {
  "kernelspec": {
   "display_name": "Python [conda env:base] *",
   "language": "python",
   "name": "conda-base-py"
  },
  "language_info": {
   "codemirror_mode": {
    "name": "ipython",
    "version": 3
   },
   "file_extension": ".py",
   "mimetype": "text/x-python",
   "name": "python",
   "nbconvert_exporter": "python",
   "pygments_lexer": "ipython3",
   "version": "3.12.7"
  }
 },
 "nbformat": 4,
 "nbformat_minor": 5
}
