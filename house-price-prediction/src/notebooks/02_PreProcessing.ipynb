{
 "cells": [
  {
   "cell_type": "code",
   "execution_count": null,
   "id": "1b61174b-ecc4-4ba2-9fe2-e4cd08d2416e",
   "metadata": {},
   "outputs": [],
   "source": [
    "#import sys\n",
    "#import os\n",
    "\n",
    "# Go two levels up from the notebook folder to reach project_root\n",
    "#sys.path.append(os.path.abspath(os.path.join(os.getcwd(), '..')))"
   ]
  },
  {
   "cell_type": "code",
   "execution_count": 1,
   "id": "7aeb68ed-2bac-4088-99cd-776fa2bddc59",
   "metadata": {},
   "outputs": [],
   "source": [
    "import pandas as pd\n",
    "import json\n",
    "\n",
    "# Load cleaned training data from EDA\n",
    "df = pd.read_csv(\"../../outputs/cleaned_train.csv\")\n",
    "\n",
    "# Load feature definitions\n",
    "with open(\"../../outputs/feature_groups.json\", \"r\") as f:\n",
    "    features = json.load(f)\n",
    "\n",
    "numeric_features = features[\"numerical\"]\n",
    "categorical_features = features[\"categorical\"]\n",
    "\n",
    "# Separate features and target\n",
    "X = df.drop(columns=[\"SalePrice\"], axis=1)\n",
    "y = df[\"SalePrice\"]"
   ]
  },
  {
   "cell_type": "code",
   "execution_count": 3,
   "id": "6b81b4fa-eff2-47f2-83a2-e42cf77aa210",
   "metadata": {},
   "outputs": [
    {
     "name": "stdout",
     "output_type": "stream",
     "text": [
      "Shape after preprocessing: (1458, 288)\n",
      "Original shape: (1458, 81)\n"
     ]
    }
   ],
   "source": [
    "from data_preprocessing import build_preprocessing_pipeline_from_json\n",
    "preprocessor = build_preprocessing_pipeline_from_json(\"../../outputs/feature_groups.json\")\n",
    "X_processed = preprocessor.fit_transform(X)\n",
    "\n",
    "print(\"Shape after preprocessing:\", X_processed.shape)\n",
    "print(\"Original shape:\", X.shape)"
   ]
  },
  {
   "cell_type": "code",
   "execution_count": 5,
   "id": "10120f85-3719-4847-af8b-449448a95994",
   "metadata": {},
   "outputs": [],
   "source": [
    "import joblib\n",
    "import numpy as np\n",
    "\n",
    "# Save pipeline\n",
    "joblib.dump(preprocessor, \"../../models/preprocessor.pkl\")\n",
    "\n",
    "# Save transformed features\n",
    "np.save(\"../../outputs/X_processed.npy\", X_processed)\n",
    "y.to_csv(\"../../outputs/y.csv\", index=False)"
   ]
  },
  {
   "cell_type": "code",
   "execution_count": null,
   "id": "2b887117-5978-494d-aacf-7c74baa38984",
   "metadata": {},
   "outputs": [],
   "source": []
  }
 ],
 "metadata": {
  "kernelspec": {
   "display_name": "Python [conda env:base] *",
   "language": "python",
   "name": "conda-base-py"
  },
  "language_info": {
   "codemirror_mode": {
    "name": "ipython",
    "version": 3
   },
   "file_extension": ".py",
   "mimetype": "text/x-python",
   "name": "python",
   "nbconvert_exporter": "python",
   "pygments_lexer": "ipython3",
   "version": "3.12.7"
  }
 },
 "nbformat": 4,
 "nbformat_minor": 5
}
