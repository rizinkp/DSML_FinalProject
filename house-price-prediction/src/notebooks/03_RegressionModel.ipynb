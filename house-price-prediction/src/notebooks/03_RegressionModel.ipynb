{
 "cells": [
  {
   "cell_type": "code",
   "execution_count": 11,
   "id": "2b06a630-e82f-4cf8-8105-c8b1eb522b66",
   "metadata": {},
   "outputs": [],
   "source": [
    "import numpy as np\n",
    "import pandas as pd\n",
    "import joblib\n",
    "\n",
    "# Loading preprocessed data\n",
    "X_scaled = np.load(\"../../outputs/X_processed.npy\")\n",
    "y = pd.read_csv(\"../../outputs/y.csv\")[\"SalePrice\"].values"
   ]
  },
  {
   "cell_type": "code",
   "execution_count": 13,
   "id": "4adc956c-a2c8-4704-ad67-cdd92b6663da",
   "metadata": {},
   "outputs": [],
   "source": [
    "# --- Split once and reuse for all models ---\n",
    "from sklearn.model_selection import train_test_split\n",
    "X_train, X_test, y_train, y_test = train_test_split(X_scaled, y, test_size=0.2, random_state=42)"
   ]
  },
  {
   "cell_type": "code",
   "execution_count": 25,
   "id": "47b3d8c4-0c04-4841-84bc-e1d924744888",
   "metadata": {},
   "outputs": [
    {
     "name": "stdout",
     "output_type": "stream",
     "text": [
      "               Model           MAE          RMSE      R² Score\n",
      "3  Gradient Boosting  7.146089e+02  1.459640e+06  9.997358e-01\n",
      "2      Random Forest  4.146981e+02  1.746532e+06  9.996838e-01\n",
      "1      Decision Tree  5.785822e+02  3.411796e+06  9.993823e-01\n",
      "4     SVR (scaled y)  1.024332e+04  2.447455e+08  9.556920e-01\n",
      "0  Linear Regression  1.194127e+13  1.640156e+28 -2.969291e+18\n"
     ]
    }
   ],
   "source": [
    "from sklearn.linear_model import LinearRegression\n",
    "from sklearn.tree import DecisionTreeRegressor\n",
    "from sklearn.ensemble import RandomForestRegressor, GradientBoostingRegressor\n",
    "from sklearn.svm import SVR\n",
    "from sklearn.preprocessing import StandardScaler\n",
    "from sklearn.metrics import mean_squared_error, mean_absolute_error, r2_score\n",
    "\n",
    "# --- Model Dictionary ---\n",
    "models = {\n",
    "    \"Linear Regression\": LinearRegression(),\n",
    "    \"Decision Tree\": DecisionTreeRegressor(random_state=42),\n",
    "    \"Random Forest\": RandomForestRegressor(random_state=42),\n",
    "    \"Gradient Boosting\": GradientBoostingRegressor(random_state=42),\n",
    "}\n",
    "\n",
    "# --- Train & Evaluate (Non-SVR models) ---\n",
    "results = []\n",
    "\n",
    "for name, model in models.items():\n",
    "    model.fit(X_train, y_train)\n",
    "    y_pred = model.predict(X_test)    \n",
    "\n",
    "    rmse = mean_squared_error(y_test, y_pred)\n",
    "    mae = mean_absolute_error(y_test, y_pred)\n",
    "    r2 = r2_score(y_test, y_pred)\n",
    "\n",
    "    results.append({\"Model\": name, \"MAE\": mae, \"RMSE\": rmse, \"R² Score\": r2})\n",
    "\n",
    "# --- SVR with y-scaling ---\n",
    "y_scaler = StandardScaler()\n",
    "y_train_scaled = y_scaler.fit_transform(y_train.reshape(-1, 1)).ravel()\n",
    "y_test_scaled = y_scaler.transform(y_test.reshape(-1, 1)).ravel()\n",
    "\n",
    "svr = SVR(kernel='rbf')\n",
    "svr.fit(X_train, y_train_scaled)\n",
    "\n",
    "y_pred_scaled = svr.predict(X_test)\n",
    "y_pred_svr = y_scaler.inverse_transform(y_pred_scaled.reshape(-1, 1)).ravel()\n",
    "\n",
    "mae = mean_absolute_error(y_test, y_pred_svr)\n",
    "rmse = mean_squared_error(y_test, y_pred_svr)\n",
    "r2 = r2_score(y_test, y_pred_svr)\n",
    "\n",
    "results.append({\"Model\": \"SVR (scaled y)\", \"MAE\": mae, \"RMSE\": rmse, \"R² Score\": r2})\n",
    "\n",
    "# Display results\n",
    "results_df = pd.DataFrame(results, columns=['Model', 'MAE', 'RMSE', 'R² Score'])\n",
    "print(results_df.sort_values(by='R² Score', ascending=False))"
   ]
  },
  {
   "cell_type": "code",
   "execution_count": null,
   "id": "dacd40d9-a6b6-42d8-8f7c-b27e7f445963",
   "metadata": {},
   "outputs": [],
   "source": []
  }
 ],
 "metadata": {
  "kernelspec": {
   "display_name": "Python [conda env:base] *",
   "language": "python",
   "name": "conda-base-py"
  },
  "language_info": {
   "codemirror_mode": {
    "name": "ipython",
    "version": 3
   },
   "file_extension": ".py",
   "mimetype": "text/x-python",
   "name": "python",
   "nbconvert_exporter": "python",
   "pygments_lexer": "ipython3",
   "version": "3.12.7"
  }
 },
 "nbformat": 4,
 "nbformat_minor": 5
}
